{
 "cells": [
  {
   "cell_type": "code",
   "execution_count": 1,
   "id": "24919d20",
   "metadata": {
    "_cell_guid": "b1076dfc-b9ad-4769-8c92-a6c4dae69d19",
    "_uuid": "8f2839f25d086af736a60e9eeb907d3b93b6e0e5",
    "execution": {
     "iopub.execute_input": "2024-11-17T11:23:51.209111Z",
     "iopub.status.busy": "2024-11-17T11:23:51.208179Z",
     "iopub.status.idle": "2024-11-17T11:23:52.035923Z",
     "shell.execute_reply": "2024-11-17T11:23:52.034843Z"
    },
    "papermill": {
     "duration": 0.844116,
     "end_time": "2024-11-17T11:23:52.038627",
     "exception": false,
     "start_time": "2024-11-17T11:23:51.194511",
     "status": "completed"
    },
    "tags": []
   },
   "outputs": [
    {
     "name": "stdout",
     "output_type": "stream",
     "text": [
      "/kaggle/input/amazon-prime-movies-and-tv-shows/amazon_prime_titles.csv\n"
     ]
    }
   ],
   "source": [
    "# This Python 3 environment comes with many helpful analytics libraries installed\n",
    "# It is defined by the kaggle/python Docker image: https://github.com/kaggle/docker-python\n",
    "# For example, here's several helpful packages to load\n",
    "\n",
    "import numpy as np # linear algebra\n",
    "import pandas as pd # data processing, CSV file I/O (e.g. pd.read_csv)\n",
    "\n",
    "# Input data files are available in the read-only \"../input/\" directory\n",
    "# For example, running this (by clicking run or pressing Shift+Enter) will list all files under the input directory\n",
    "\n",
    "import os\n",
    "for dirname, _, filenames in os.walk('/kaggle/input'):\n",
    "    for filename in filenames:\n",
    "        print(os.path.join(dirname, filename))\n",
    "\n",
    "# You can write up to 20GB to the current directory (/kaggle/working/) that gets preserved as output when you create a version using \"Save & Run All\" \n",
    "# You can also write temporary files to /kaggle/temp/, but they won't be saved outside of the current session"
   ]
  },
  {
   "cell_type": "markdown",
   "id": "84d7b7ce",
   "metadata": {
    "papermill": {
     "duration": 0.007727,
     "end_time": "2024-11-17T11:23:52.054656",
     "exception": false,
     "start_time": "2024-11-17T11:23:52.046929",
     "status": "completed"
    },
    "tags": []
   },
   "source": [
    "**Import Libraies**"
   ]
  },
  {
   "cell_type": "code",
   "execution_count": 2,
   "id": "0b70a19b",
   "metadata": {
    "execution": {
     "iopub.execute_input": "2024-11-17T11:23:52.073821Z",
     "iopub.status.busy": "2024-11-17T11:23:52.072863Z",
     "iopub.status.idle": "2024-11-17T11:23:54.043330Z",
     "shell.execute_reply": "2024-11-17T11:23:54.042294Z"
    },
    "papermill": {
     "duration": 1.983179,
     "end_time": "2024-11-17T11:23:54.046088",
     "exception": false,
     "start_time": "2024-11-17T11:23:52.062909",
     "status": "completed"
    },
    "tags": []
   },
   "outputs": [],
   "source": [
    "import matplotlib.pyplot as plt\n",
    "import seaborn as sns\n",
    "from collections import Counter\n",
    "from sklearn.feature_extraction.text import CountVectorizer\n",
    "from sklearn.neighbors import NearestNeighbors"
   ]
  },
  {
   "cell_type": "markdown",
   "id": "0db68f86",
   "metadata": {
    "papermill": {
     "duration": 0.007734,
     "end_time": "2024-11-17T11:23:54.061950",
     "exception": false,
     "start_time": "2024-11-17T11:23:54.054216",
     "status": "completed"
    },
    "tags": []
   },
   "source": [
    "**Data Load**"
   ]
  },
  {
   "cell_type": "code",
   "execution_count": 3,
   "id": "4a85691c",
   "metadata": {
    "execution": {
     "iopub.execute_input": "2024-11-17T11:23:54.080169Z",
     "iopub.status.busy": "2024-11-17T11:23:54.079259Z",
     "iopub.status.idle": "2024-11-17T11:23:54.242538Z",
     "shell.execute_reply": "2024-11-17T11:23:54.241452Z"
    },
    "papermill": {
     "duration": 0.175223,
     "end_time": "2024-11-17T11:23:54.245165",
     "exception": false,
     "start_time": "2024-11-17T11:23:54.069942",
     "status": "completed"
    },
    "tags": []
   },
   "outputs": [],
   "source": [
    "data= pd.read_csv('/kaggle/input/amazon-prime-movies-and-tv-shows/amazon_prime_titles.csv')"
   ]
  },
  {
   "cell_type": "code",
   "execution_count": 4,
   "id": "dec836d4",
   "metadata": {
    "execution": {
     "iopub.execute_input": "2024-11-17T11:23:54.264482Z",
     "iopub.status.busy": "2024-11-17T11:23:54.263561Z",
     "iopub.status.idle": "2024-11-17T11:23:54.290615Z",
     "shell.execute_reply": "2024-11-17T11:23:54.289568Z"
    },
    "papermill": {
     "duration": 0.039863,
     "end_time": "2024-11-17T11:23:54.293090",
     "exception": false,
     "start_time": "2024-11-17T11:23:54.253227",
     "status": "completed"
    },
    "tags": []
   },
   "outputs": [
    {
     "data": {
      "text/html": [
       "<div>\n",
       "<style scoped>\n",
       "    .dataframe tbody tr th:only-of-type {\n",
       "        vertical-align: middle;\n",
       "    }\n",
       "\n",
       "    .dataframe tbody tr th {\n",
       "        vertical-align: top;\n",
       "    }\n",
       "\n",
       "    .dataframe thead th {\n",
       "        text-align: right;\n",
       "    }\n",
       "</style>\n",
       "<table border=\"1\" class=\"dataframe\">\n",
       "  <thead>\n",
       "    <tr style=\"text-align: right;\">\n",
       "      <th></th>\n",
       "      <th>show_id</th>\n",
       "      <th>type</th>\n",
       "      <th>title</th>\n",
       "      <th>director</th>\n",
       "      <th>cast</th>\n",
       "      <th>country</th>\n",
       "      <th>date_added</th>\n",
       "      <th>release_year</th>\n",
       "      <th>rating</th>\n",
       "      <th>duration</th>\n",
       "      <th>listed_in</th>\n",
       "      <th>description</th>\n",
       "    </tr>\n",
       "  </thead>\n",
       "  <tbody>\n",
       "    <tr>\n",
       "      <th>0</th>\n",
       "      <td>s1</td>\n",
       "      <td>Movie</td>\n",
       "      <td>The Grand Seduction</td>\n",
       "      <td>Don McKellar</td>\n",
       "      <td>Brendan Gleeson, Taylor Kitsch, Gordon Pinsent</td>\n",
       "      <td>Canada</td>\n",
       "      <td>March 30, 2021</td>\n",
       "      <td>2014</td>\n",
       "      <td>NaN</td>\n",
       "      <td>113 min</td>\n",
       "      <td>Comedy, Drama</td>\n",
       "      <td>A small fishing village must procure a local d...</td>\n",
       "    </tr>\n",
       "    <tr>\n",
       "      <th>1</th>\n",
       "      <td>s2</td>\n",
       "      <td>Movie</td>\n",
       "      <td>Take Care Good Night</td>\n",
       "      <td>Girish Joshi</td>\n",
       "      <td>Mahesh Manjrekar, Abhay Mahajan, Sachin Khedekar</td>\n",
       "      <td>India</td>\n",
       "      <td>March 30, 2021</td>\n",
       "      <td>2018</td>\n",
       "      <td>13+</td>\n",
       "      <td>110 min</td>\n",
       "      <td>Drama, International</td>\n",
       "      <td>A Metro Family decides to fight a Cyber Crimin...</td>\n",
       "    </tr>\n",
       "    <tr>\n",
       "      <th>2</th>\n",
       "      <td>s3</td>\n",
       "      <td>Movie</td>\n",
       "      <td>Secrets of Deception</td>\n",
       "      <td>Josh Webber</td>\n",
       "      <td>Tom Sizemore, Lorenzo Lamas, Robert LaSardo, R...</td>\n",
       "      <td>United States</td>\n",
       "      <td>March 30, 2021</td>\n",
       "      <td>2017</td>\n",
       "      <td>NaN</td>\n",
       "      <td>74 min</td>\n",
       "      <td>Action, Drama, Suspense</td>\n",
       "      <td>After a man discovers his wife is cheating on ...</td>\n",
       "    </tr>\n",
       "    <tr>\n",
       "      <th>3</th>\n",
       "      <td>s4</td>\n",
       "      <td>Movie</td>\n",
       "      <td>Pink: Staying True</td>\n",
       "      <td>Sonia Anderson</td>\n",
       "      <td>Interviews with: Pink, Adele, Beyoncé, Britney...</td>\n",
       "      <td>United States</td>\n",
       "      <td>March 30, 2021</td>\n",
       "      <td>2014</td>\n",
       "      <td>NaN</td>\n",
       "      <td>69 min</td>\n",
       "      <td>Documentary</td>\n",
       "      <td>Pink breaks the mold once again, bringing her ...</td>\n",
       "    </tr>\n",
       "    <tr>\n",
       "      <th>4</th>\n",
       "      <td>s5</td>\n",
       "      <td>Movie</td>\n",
       "      <td>Monster Maker</td>\n",
       "      <td>Giles Foster</td>\n",
       "      <td>Harry Dean Stanton, Kieran O'Brien, George Cos...</td>\n",
       "      <td>United Kingdom</td>\n",
       "      <td>March 30, 2021</td>\n",
       "      <td>1989</td>\n",
       "      <td>NaN</td>\n",
       "      <td>45 min</td>\n",
       "      <td>Drama, Fantasy</td>\n",
       "      <td>Teenage Matt Banting wants to work with a famo...</td>\n",
       "    </tr>\n",
       "  </tbody>\n",
       "</table>\n",
       "</div>"
      ],
      "text/plain": [
       "  show_id   type                 title        director  \\\n",
       "0      s1  Movie   The Grand Seduction    Don McKellar   \n",
       "1      s2  Movie  Take Care Good Night    Girish Joshi   \n",
       "2      s3  Movie  Secrets of Deception     Josh Webber   \n",
       "3      s4  Movie    Pink: Staying True  Sonia Anderson   \n",
       "4      s5  Movie         Monster Maker    Giles Foster   \n",
       "\n",
       "                                                cast         country  \\\n",
       "0     Brendan Gleeson, Taylor Kitsch, Gordon Pinsent          Canada   \n",
       "1   Mahesh Manjrekar, Abhay Mahajan, Sachin Khedekar           India   \n",
       "2  Tom Sizemore, Lorenzo Lamas, Robert LaSardo, R...   United States   \n",
       "3  Interviews with: Pink, Adele, Beyoncé, Britney...   United States   \n",
       "4  Harry Dean Stanton, Kieran O'Brien, George Cos...  United Kingdom   \n",
       "\n",
       "       date_added  release_year rating duration                listed_in  \\\n",
       "0  March 30, 2021          2014    NaN  113 min            Comedy, Drama   \n",
       "1  March 30, 2021          2018    13+  110 min     Drama, International   \n",
       "2  March 30, 2021          2017    NaN   74 min  Action, Drama, Suspense   \n",
       "3  March 30, 2021          2014    NaN   69 min              Documentary   \n",
       "4  March 30, 2021          1989    NaN   45 min           Drama, Fantasy   \n",
       "\n",
       "                                         description  \n",
       "0  A small fishing village must procure a local d...  \n",
       "1  A Metro Family decides to fight a Cyber Crimin...  \n",
       "2  After a man discovers his wife is cheating on ...  \n",
       "3  Pink breaks the mold once again, bringing her ...  \n",
       "4  Teenage Matt Banting wants to work with a famo...  "
      ]
     },
     "execution_count": 4,
     "metadata": {},
     "output_type": "execute_result"
    }
   ],
   "source": [
    "data.head()"
   ]
  },
  {
   "cell_type": "code",
   "execution_count": 5,
   "id": "4aa17e53",
   "metadata": {
    "execution": {
     "iopub.execute_input": "2024-11-17T11:23:54.311979Z",
     "iopub.status.busy": "2024-11-17T11:23:54.311190Z",
     "iopub.status.idle": "2024-11-17T11:23:54.347868Z",
     "shell.execute_reply": "2024-11-17T11:23:54.346253Z"
    },
    "papermill": {
     "duration": 0.048752,
     "end_time": "2024-11-17T11:23:54.350403",
     "exception": false,
     "start_time": "2024-11-17T11:23:54.301651",
     "status": "completed"
    },
    "tags": []
   },
   "outputs": [
    {
     "name": "stdout",
     "output_type": "stream",
     "text": [
      "<class 'pandas.core.frame.DataFrame'>\n",
      "RangeIndex: 9668 entries, 0 to 9667\n",
      "Data columns (total 12 columns):\n",
      " #   Column        Non-Null Count  Dtype \n",
      "---  ------        --------------  ----- \n",
      " 0   show_id       9668 non-null   object\n",
      " 1   type          9668 non-null   object\n",
      " 2   title         9668 non-null   object\n",
      " 3   director      7585 non-null   object\n",
      " 4   cast          8435 non-null   object\n",
      " 5   country       672 non-null    object\n",
      " 6   date_added    155 non-null    object\n",
      " 7   release_year  9668 non-null   int64 \n",
      " 8   rating        9331 non-null   object\n",
      " 9   duration      9668 non-null   object\n",
      " 10  listed_in     9668 non-null   object\n",
      " 11  description   9668 non-null   object\n",
      "dtypes: int64(1), object(11)\n",
      "memory usage: 906.5+ KB\n"
     ]
    }
   ],
   "source": [
    "data.info()"
   ]
  },
  {
   "cell_type": "markdown",
   "id": "c1b5447f",
   "metadata": {
    "papermill": {
     "duration": 0.008272,
     "end_time": "2024-11-17T11:23:54.367420",
     "exception": false,
     "start_time": "2024-11-17T11:23:54.359148",
     "status": "completed"
    },
    "tags": []
   },
   "source": [
    "**Preprocessing**"
   ]
  },
  {
   "cell_type": "code",
   "execution_count": 6,
   "id": "c8f80e04",
   "metadata": {
    "execution": {
     "iopub.execute_input": "2024-11-17T11:23:54.386849Z",
     "iopub.status.busy": "2024-11-17T11:23:54.385848Z",
     "iopub.status.idle": "2024-11-17T11:23:54.407293Z",
     "shell.execute_reply": "2024-11-17T11:23:54.406339Z"
    },
    "papermill": {
     "duration": 0.034042,
     "end_time": "2024-11-17T11:23:54.409898",
     "exception": false,
     "start_time": "2024-11-17T11:23:54.375856",
     "status": "completed"
    },
    "tags": []
   },
   "outputs": [],
   "source": [
    "data.fillna('', inplace=True)"
   ]
  },
  {
   "cell_type": "code",
   "execution_count": 7,
   "id": "0ca91242",
   "metadata": {
    "execution": {
     "iopub.execute_input": "2024-11-17T11:23:54.429003Z",
     "iopub.status.busy": "2024-11-17T11:23:54.428203Z",
     "iopub.status.idle": "2024-11-17T11:23:54.451889Z",
     "shell.execute_reply": "2024-11-17T11:23:54.450596Z"
    },
    "papermill": {
     "duration": 0.035875,
     "end_time": "2024-11-17T11:23:54.454300",
     "exception": false,
     "start_time": "2024-11-17T11:23:54.418425",
     "status": "completed"
    },
    "tags": []
   },
   "outputs": [
    {
     "name": "stdout",
     "output_type": "stream",
     "text": [
      "<class 'pandas.core.frame.DataFrame'>\n",
      "RangeIndex: 9668 entries, 0 to 9667\n",
      "Data columns (total 12 columns):\n",
      " #   Column        Non-Null Count  Dtype \n",
      "---  ------        --------------  ----- \n",
      " 0   show_id       9668 non-null   object\n",
      " 1   type          9668 non-null   object\n",
      " 2   title         9668 non-null   object\n",
      " 3   director      9668 non-null   object\n",
      " 4   cast          9668 non-null   object\n",
      " 5   country       9668 non-null   object\n",
      " 6   date_added    9668 non-null   object\n",
      " 7   release_year  9668 non-null   int64 \n",
      " 8   rating        9668 non-null   object\n",
      " 9   duration      9668 non-null   object\n",
      " 10  listed_in     9668 non-null   object\n",
      " 11  description   9668 non-null   object\n",
      "dtypes: int64(1), object(11)\n",
      "memory usage: 906.5+ KB\n"
     ]
    }
   ],
   "source": [
    "data.info()"
   ]
  },
  {
   "cell_type": "markdown",
   "id": "acf398c7",
   "metadata": {
    "papermill": {
     "duration": 0.008346,
     "end_time": "2024-11-17T11:23:54.471321",
     "exception": false,
     "start_time": "2024-11-17T11:23:54.462975",
     "status": "completed"
    },
    "tags": []
   },
   "source": [
    "**EDA**"
   ]
  },
  {
   "cell_type": "code",
   "execution_count": 8,
   "id": "f150df0d",
   "metadata": {
    "execution": {
     "iopub.execute_input": "2024-11-17T11:23:54.490888Z",
     "iopub.status.busy": "2024-11-17T11:23:54.489900Z",
     "iopub.status.idle": "2024-11-17T11:23:54.495788Z",
     "shell.execute_reply": "2024-11-17T11:23:54.494810Z"
    },
    "papermill": {
     "duration": 0.018157,
     "end_time": "2024-11-17T11:23:54.498089",
     "exception": false,
     "start_time": "2024-11-17T11:23:54.479932",
     "status": "completed"
    },
    "tags": []
   },
   "outputs": [],
   "source": [
    "data['release_year'] = pd.to_numeric(data['release_year'], errors='coerce')"
   ]
  },
  {
   "cell_type": "code",
   "execution_count": 9,
   "id": "36544d55",
   "metadata": {
    "execution": {
     "iopub.execute_input": "2024-11-17T11:23:54.517132Z",
     "iopub.status.busy": "2024-11-17T11:23:54.516720Z",
     "iopub.status.idle": "2024-11-17T11:23:54.525968Z",
     "shell.execute_reply": "2024-11-17T11:23:54.524936Z"
    },
    "papermill": {
     "duration": 0.021766,
     "end_time": "2024-11-17T11:23:54.528525",
     "exception": false,
     "start_time": "2024-11-17T11:23:54.506759",
     "status": "completed"
    },
    "tags": []
   },
   "outputs": [],
   "source": [
    "release_year_data = data.dropna(subset=['release_year'])"
   ]
  },
  {
   "cell_type": "code",
   "execution_count": 10,
   "id": "eed46a66",
   "metadata": {
    "execution": {
     "iopub.execute_input": "2024-11-17T11:23:54.548167Z",
     "iopub.status.busy": "2024-11-17T11:23:54.547237Z",
     "iopub.status.idle": "2024-11-17T11:23:55.018399Z",
     "shell.execute_reply": "2024-11-17T11:23:55.017182Z"
    },
    "papermill": {
     "duration": 0.483876,
     "end_time": "2024-11-17T11:23:55.021159",
     "exception": false,
     "start_time": "2024-11-17T11:23:54.537283",
     "status": "completed"
    },
    "tags": []
   },
   "outputs": [
    {
     "name": "stderr",
     "output_type": "stream",
     "text": [
      "/opt/conda/lib/python3.10/site-packages/seaborn/_oldcore.py:1119: FutureWarning: use_inf_as_na option is deprecated and will be removed in a future version. Convert inf values to NaN before operating instead.\n",
      "  with pd.option_context('mode.use_inf_as_na', True):\n"
     ]
    },
    {
     "data": {
      "image/png": "[encoded data removed]",
      "text/plain": [
       "<Figure size 1200x600 with 1 Axes>"
      ]
     },
     "metadata": {},
     "output_type": "display_data"
    }
   ],
   "source": [
    "plt.figure(figsize=(12, 6))\n",
    "sns.histplot(release_year_data['release_year'], bins=20, kde=True, color='blue')\n",
    "plt.title('Distribution of Movie Release Years', fontsize=16)\n",
    "plt.xlabel('Release Year', fontsize=12)\n",
    "plt.ylabel('Number of Movies', fontsize=12)\n",
    "plt.grid(axis='y', linestyle='--', alpha=0.7)\n",
    "plt.show()"
   ]
  },
  {
   "cell_type": "code",
   "execution_count": 11,
   "id": "c4d2e7f9",
   "metadata": {
    "execution": {
     "iopub.execute_input": "2024-11-17T11:23:55.042162Z",
     "iopub.status.busy": "2024-11-17T11:23:55.041736Z",
     "iopub.status.idle": "2024-11-17T11:23:55.067036Z",
     "shell.execute_reply": "2024-11-17T11:23:55.065940Z"
    },
    "papermill": {
     "duration": 0.039147,
     "end_time": "2024-11-17T11:23:55.069892",
     "exception": false,
     "start_time": "2024-11-17T11:23:55.030745",
     "status": "completed"
    },
    "tags": []
   },
   "outputs": [],
   "source": [
    "genres = data['listed_in'].dropna().str.split(', ')\n",
    "all_genres = [genre for sublist in genres for genre in sublist]\n",
    "genre_counts = Counter(all_genres)"
   ]
  },
  {
   "cell_type": "code",
   "execution_count": 12,
   "id": "723c1e92",
   "metadata": {
    "execution": {
     "iopub.execute_input": "2024-11-17T11:23:55.090844Z",
     "iopub.status.busy": "2024-11-17T11:23:55.090419Z",
     "iopub.status.idle": "2024-11-17T11:23:55.099444Z",
     "shell.execute_reply": "2024-11-17T11:23:55.098289Z"
    },
    "papermill": {
     "duration": 0.022156,
     "end_time": "2024-11-17T11:23:55.101762",
     "exception": false,
     "start_time": "2024-11-17T11:23:55.079606",
     "status": "completed"
    },
    "tags": []
   },
   "outputs": [],
   "source": [
    "genre_df = pd.DataFrame(genre_counts.items(), columns=['Genre', 'Count']).sort_values(by='Count', ascending=False)"
   ]
  },
  {
   "cell_type": "code",
   "execution_count": 13,
   "id": "65e09fa6",
   "metadata": {
    "execution": {
     "iopub.execute_input": "2024-11-17T11:23:55.123119Z",
     "iopub.status.busy": "2024-11-17T11:23:55.122176Z",
     "iopub.status.idle": "2024-11-17T11:23:55.419966Z",
     "shell.execute_reply": "2024-11-17T11:23:55.418934Z"
    },
    "papermill": {
     "duration": 0.311356,
     "end_time": "2024-11-17T11:23:55.422639",
     "exception": false,
     "start_time": "2024-11-17T11:23:55.111283",
     "status": "completed"
    },
    "tags": []
   },
   "outputs": [
    {
     "data": {
      "image/png": "[encoded data removed]",
      "text/plain": [
       "<Figure size 1200x600 with 1 Axes>"
      ]
     },
     "metadata": {},
     "output_type": "display_data"
    }
   ],
   "source": [
    "plt.figure(figsize=(12, 6))\n",
    "sns.barplot(x='Count', y='Genre', data=genre_df.head(10), palette='viridis')\n",
    "plt.title('Top 10 Genres by Movie Count', fontsize=16)\n",
    "plt.xlabel('Number of Movies', fontsize=12)\n",
    "plt.ylabel('Genres', fontsize=12)\n",
    "plt.show()"
   ]
  },
  {
   "cell_type": "markdown",
   "id": "0286af00",
   "metadata": {
    "papermill": {
     "duration": 0.009902,
     "end_time": "2024-11-17T11:23:55.442670",
     "exception": false,
     "start_time": "2024-11-17T11:23:55.432768",
     "status": "completed"
    },
    "tags": []
   },
   "source": [
    "****\n",
    "Combine Metadata Into a Single String for Each Movie"
   ]
  },
  {
   "cell_type": "code",
   "execution_count": 14,
   "id": "93e6f203",
   "metadata": {
    "execution": {
     "iopub.execute_input": "2024-11-17T11:23:55.464884Z",
     "iopub.status.busy": "2024-11-17T11:23:55.464456Z",
     "iopub.status.idle": "2024-11-17T11:23:55.485644Z",
     "shell.execute_reply": "2024-11-17T11:23:55.484673Z"
    },
    "papermill": {
     "duration": 0.035415,
     "end_time": "2024-11-17T11:23:55.488308",
     "exception": false,
     "start_time": "2024-11-17T11:23:55.452893",
     "status": "completed"
    },
    "tags": []
   },
   "outputs": [],
   "source": [
    "data['metadata'] = data['director'] + ' ' + data['cast'] + ' ' + data['listed_in'] + ' ' + data['description']"
   ]
  },
  {
   "cell_type": "markdown",
   "id": "d35639b8",
   "metadata": {
    "papermill": {
     "duration": 0.009848,
     "end_time": "2024-11-17T11:23:55.508406",
     "exception": false,
     "start_time": "2024-11-17T11:23:55.498558",
     "status": "completed"
    },
    "tags": []
   },
   "source": [
    "**Vectorization**"
   ]
  },
  {
   "cell_type": "code",
   "execution_count": 15,
   "id": "d9d9968d",
   "metadata": {
    "execution": {
     "iopub.execute_input": "2024-11-17T11:23:55.530465Z",
     "iopub.status.busy": "2024-11-17T11:23:55.530031Z",
     "iopub.status.idle": "2024-11-17T11:23:56.426903Z",
     "shell.execute_reply": "2024-11-17T11:23:56.425792Z"
    },
    "papermill": {
     "duration": 0.9112,
     "end_time": "2024-11-17T11:23:56.429832",
     "exception": false,
     "start_time": "2024-11-17T11:23:55.518632",
     "status": "completed"
    },
    "tags": []
   },
   "outputs": [],
   "source": [
    "vectorizer = CountVectorizer(stop_words='english')\n",
    "feature_matrix = vectorizer.fit_transform(data['metadata'])"
   ]
  },
  {
   "cell_type": "markdown",
   "id": "bdb4e1bb",
   "metadata": {
    "papermill": {
     "duration": 0.010363,
     "end_time": "2024-11-17T11:23:56.450852",
     "exception": false,
     "start_time": "2024-11-17T11:23:56.440489",
     "status": "completed"
    },
    "tags": []
   },
   "source": [
    "**KNN**"
   ]
  },
  {
   "cell_type": "code",
   "execution_count": 16,
   "id": "ae529627",
   "metadata": {
    "execution": {
     "iopub.execute_input": "2024-11-17T11:23:56.473328Z",
     "iopub.status.busy": "2024-11-17T11:23:56.472499Z",
     "iopub.status.idle": "2024-11-17T11:23:56.483528Z",
     "shell.execute_reply": "2024-11-17T11:23:56.482471Z"
    },
    "papermill": {
     "duration": 0.024939,
     "end_time": "2024-11-17T11:23:56.485894",
     "exception": false,
     "start_time": "2024-11-17T11:23:56.460955",
     "status": "completed"
    },
    "tags": []
   },
   "outputs": [
    {
     "data": {
      "text/html": [
       "<style>#sk-container-id-1 {color: black;background-color: white;}#sk-container-id-1 pre{padding: 0;}#sk-container-id-1 div.sk-toggleable {background-color: white;}#sk-container-id-1 label.sk-toggleable__label {cursor: pointer;display: block;width: 100%;margin-bottom: 0;padding: 0.3em;box-sizing: border-box;text-align: center;}#sk-container-id-1 label.sk-toggleable__label-arrow:before {content: \"▸\";float: left;margin-right: 0.25em;color: #696969;}#sk-container-id-1 label.sk-toggleable__label-arrow:hover:before {color: black;}#sk-container-id-1 div.sk-estimator:hover label.sk-toggleable__label-arrow:before {color: black;}#sk-container-id-1 div.sk-toggleable__content {max-height: 0;max-width: 0;overflow: hidden;text-align: left;background-color: #f0f8ff;}#sk-container-id-1 div.sk-toggleable__content pre {margin: 0.2em;color: black;border-radius: 0.25em;background-color: #f0f8ff;}#sk-container-id-1 input.sk-toggleable__control:checked~div.sk-toggleable__content {max-height: 200px;max-width: 100%;overflow: auto;}#sk-container-id-1 input.sk-toggleable__control:checked~label.sk-toggleable__label-arrow:before {content: \"▾\";}#sk-container-id-1 div.sk-estimator input.sk-toggleable__control:checked~label.sk-toggleable__label {background-color: #d4ebff;}#sk-container-id-1 div.sk-label input.sk-toggleable__control:checked~label.sk-toggleable__label {background-color: #d4ebff;}#sk-container-id-1 input.sk-hidden--visually {border: 0;clip: rect(1px 1px 1px 1px);clip: rect(1px, 1px, 1px, 1px);height: 1px;margin: -1px;overflow: hidden;padding: 0;position: absolute;width: 1px;}#sk-container-id-1 div.sk-estimator {font-family: monospace;background-color: #f0f8ff;border: 1px dotted black;border-radius: 0.25em;box-sizing: border-box;margin-bottom: 0.5em;}#sk-container-id-1 div.sk-estimator:hover {background-color: #d4ebff;}#sk-container-id-1 div.sk-parallel-item::after {content: \"\";width: 100%;border-bottom: 1px solid gray;flex-grow: 1;}#sk-container-id-1 div.sk-label:hover label.sk-toggleable__label {background-color: #d4ebff;}#sk-container-id-1 div.sk-serial::before {content: \"\";position: absolute;border-left: 1px solid gray;box-sizing: border-box;top: 0;bottom: 0;left: 50%;z-index: 0;}#sk-container-id-1 div.sk-serial {display: flex;flex-direction: column;align-items: center;background-color: white;padding-right: 0.2em;padding-left: 0.2em;position: relative;}#sk-container-id-1 div.sk-item {position: relative;z-index: 1;}#sk-container-id-1 div.sk-parallel {display: flex;align-items: stretch;justify-content: center;background-color: white;position: relative;}#sk-container-id-1 div.sk-item::before, #sk-container-id-1 div.sk-parallel-item::before {content: \"\";position: absolute;border-left: 1px solid gray;box-sizing: border-box;top: 0;bottom: 0;left: 50%;z-index: -1;}#sk-container-id-1 div.sk-parallel-item {display: flex;flex-direction: column;z-index: 1;position: relative;background-color: white;}#sk-container-id-1 div.sk-parallel-item:first-child::after {align-self: flex-end;width: 50%;}#sk-container-id-1 div.sk-parallel-item:last-child::after {align-self: flex-start;width: 50%;}#sk-container-id-1 div.sk-parallel-item:only-child::after {width: 0;}#sk-container-id-1 div.sk-dashed-wrapped {border: 1px dashed gray;margin: 0 0.4em 0.5em 0.4em;box-sizing: border-box;padding-bottom: 0.4em;background-color: white;}#sk-container-id-1 div.sk-label label {font-family: monospace;font-weight: bold;display: inline-block;line-height: 1.2em;}#sk-container-id-1 div.sk-label-container {text-align: center;}#sk-container-id-1 div.sk-container {/* jupyter's `normalize.less` sets `[hidden] { display: none; }` but bootstrap.min.css set `[hidden] { display: none !important; }` so we also need the `!important` here to be able to override the default hidden behavior on the sphinx rendered scikit-learn.org. See: https://github.com/scikit-learn/scikit-learn/issues/21755 */display: inline-block !important;position: relative;}#sk-container-id-1 div.sk-text-repr-fallback {display: none;}</style><div id=\"sk-container-id-1\" class=\"sk-top-container\"><div class=\"sk-text-repr-fallback\"><pre>NearestNeighbors(algorithm=&#x27;brute&#x27;, metric=&#x27;cosine&#x27;)</pre><b>In a Jupyter environment, please rerun this cell to show the HTML representation or trust the notebook. <br />On GitHub, the HTML representation is unable to render, please try loading this page with nbviewer.org.</b></div><div class=\"sk-container\" hidden><div class=\"sk-item\"><div class=\"sk-estimator sk-toggleable\"><input class=\"sk-toggleable__control sk-hidden--visually\" id=\"sk-estimator-id-1\" type=\"checkbox\" checked><label for=\"sk-estimator-id-1\" class=\"sk-toggleable__label sk-toggleable__label-arrow\">NearestNeighbors</label><div class=\"sk-toggleable__content\"><pre>NearestNeighbors(algorithm=&#x27;brute&#x27;, metric=&#x27;cosine&#x27;)</pre></div></div></div></div></div>"
      ],
      "text/plain": [
       "NearestNeighbors(algorithm='brute', metric='cosine')"
      ]
     },
     "execution_count": 16,
     "metadata": {},
     "output_type": "execute_result"
    }
   ],
   "source": [
    "knn = NearestNeighbors(metric='cosine', algorithm='brute')\n",
    "knn.fit(feature_matrix)"
   ]
  },
  {
   "cell_type": "code",
   "execution_count": 17,
   "id": "ba98893e",
   "metadata": {
    "execution": {
     "iopub.execute_input": "2024-11-17T11:23:56.509135Z",
     "iopub.status.busy": "2024-11-17T11:23:56.508104Z",
     "iopub.status.idle": "2024-11-17T11:23:56.515881Z",
     "shell.execute_reply": "2024-11-17T11:23:56.514798Z"
    },
    "papermill": {
     "duration": 0.021639,
     "end_time": "2024-11-17T11:23:56.518116",
     "exception": false,
     "start_time": "2024-11-17T11:23:56.496477",
     "status": "completed"
    },
    "tags": []
   },
   "outputs": [],
   "source": [
    "def recommend_movies_knn(title, data=data, knn=knn, feature_matrix=feature_matrix, top_n=10):\n",
    "   \n",
    "    indices = pd.Series(data.index, index=data['title']).drop_duplicates()\n",
    "    if title not in indices:\n",
    "        return f\"Movie '{title}' not found in the dataset.\"\n",
    "\n",
    "    idx = indices[title]\n",
    "\n",
    "    \n",
    "    distances, indices = knn.kneighbors(feature_matrix[idx], n_neighbors=top_n+1)\n",
    "\n",
    "   \n",
    "    recommended_movies = data['title'].iloc[indices.flatten()]\n",
    "    recommended_movies = recommended_movies[1:]  \n",
    "\n",
    "    return recommended_movies"
   ]
  },
  {
   "cell_type": "code",
   "execution_count": 18,
   "id": "8d31dd63",
   "metadata": {
    "execution": {
     "iopub.execute_input": "2024-11-17T11:23:56.541264Z",
     "iopub.status.busy": "2024-11-17T11:23:56.540323Z",
     "iopub.status.idle": "2024-11-17T11:23:56.587905Z",
     "shell.execute_reply": "2024-11-17T11:23:56.586503Z"
    },
    "papermill": {
     "duration": 0.06183,
     "end_time": "2024-11-17T11:23:56.590369",
     "exception": false,
     "start_time": "2024-11-17T11:23:56.528539",
     "status": "completed"
    },
    "tags": []
   },
   "outputs": [
    {
     "name": "stdout",
     "output_type": "stream",
     "text": [
      "Movies recommended for 'The Grand Seduction':\n",
      "4319                    Kadaram Kondan\n",
      "5966                        Chittibabu\n",
      "604                  The Indian Doctor\n",
      "7404                    Gunde Pranayam\n",
      "8274                  Raja Chinna Roja\n",
      "2267                    Hamish Macbeth\n",
      "2092    Invasion of the Body Snatchers\n",
      "1407                      Oru Kai Osai\n",
      "2638             Doctor Blood's Coffin\n",
      "508                     The North Star\n",
      "Name: title, dtype: object\n"
     ]
    }
   ],
   "source": [
    "movie_name = \"The Grand Seduction\"  \n",
    "recommended = recommend_movies_knn(movie_name)\n",
    "print(f\"Movies recommended for '{movie_name}':\\n{recommended}\")"
   ]
  }
 ],
 "metadata": {
  "kaggle": {
   "accelerator": "none",
   "dataSources": [
    {
     "datasetId": 1643699,
     "sourceId": 2698943,
     "sourceType": "datasetVersion"
    }
   ],
   "dockerImageVersionId": 30786,
   "isGpuEnabled": false,
   "isInternetEnabled": true,
   "language": "python",
   "sourceType": "notebook"
  },
  "kernelspec": {
   "display_name": "Python 3",
   "language": "python",
   "name": "python3"
  },
  "language_info": {
   "codemirror_mode": {
    "name": "ipython",
    "version": 3
   },
   "file_extension": ".py",
   "mimetype": "text/x-python",
   "name": "python",
   "nbconvert_exporter": "python",
   "pygments_lexer": "ipython3",
   "version": "3.10.14"
  },
  "papermill": {
   "default_parameters": {},
   "duration": 9.047366,
   "end_time": "2024-11-17T11:23:57.322129",
   "environment_variables": {},
   "exception": null,
   "input_path": "__notebook__.ipynb",
   "output_path": "__notebook__.ipynb",
   "parameters": {},
   "start_time": "2024-11-17T11:23:48.274763",
   "version": "2.6.0"
  }
 },
 "nbformat": 4,
 "nbformat_minor": 5
}
